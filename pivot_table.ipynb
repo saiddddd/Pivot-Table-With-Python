{
 "cells": [
  {
   "cell_type": "code",
   "execution_count": 11,
   "metadata": {},
   "outputs": [],
   "source": [
    "#!pip install pivottablejs"
   ]
  },
  {
   "cell_type": "code",
   "execution_count": 12,
   "metadata": {},
   "outputs": [],
   "source": [
    "import numpy as np\n",
    "import pandas as pd\n",
    "from pivottablejs import pivot_ui\n",
    "from IPython.display import HTML"
   ]
  },
  {
   "cell_type": "code",
   "execution_count": 9,
   "metadata": {},
   "outputs": [],
   "source": [
    "df = pd.DataFrame({\"Class\": [\"Yes\", \"Yes\", \"Yes\", \"Yes\", \"Yes\",\n",
    "                         \"No\", \"No\", \"No\", \"No\"],\n",
    "                   \"Musik\": [\"Minat\", \"Tidak Minat\", \"Minat\", \"Tidak Minat\", \"Tidak Minat\",\n",
    "                         \"Minat\", \"Minat\", \"Tidak Minat\", \"Tidak Minat\"],\n",
    "                   \"Berat Badan\": [160, 165, 167, 171, 170, 184, 1635, 156, 135]})"
   ]
  },
  {
   "cell_type": "code",
   "execution_count": 10,
   "metadata": {},
   "outputs": [
    {
     "data": {
      "text/html": [
       "<div>\n",
       "<style scoped>\n",
       "    .dataframe tbody tr th:only-of-type {\n",
       "        vertical-align: middle;\n",
       "    }\n",
       "\n",
       "    .dataframe tbody tr th {\n",
       "        vertical-align: top;\n",
       "    }\n",
       "\n",
       "    .dataframe thead th {\n",
       "        text-align: right;\n",
       "    }\n",
       "</style>\n",
       "<table border=\"1\" class=\"dataframe\">\n",
       "  <thead>\n",
       "    <tr style=\"text-align: right;\">\n",
       "      <th></th>\n",
       "      <th>Class</th>\n",
       "      <th>Musik</th>\n",
       "      <th>Berat Badan</th>\n",
       "    </tr>\n",
       "  </thead>\n",
       "  <tbody>\n",
       "    <tr>\n",
       "      <th>0</th>\n",
       "      <td>Yes</td>\n",
       "      <td>Minat</td>\n",
       "      <td>160</td>\n",
       "    </tr>\n",
       "    <tr>\n",
       "      <th>1</th>\n",
       "      <td>Yes</td>\n",
       "      <td>Tidak Minat</td>\n",
       "      <td>165</td>\n",
       "    </tr>\n",
       "    <tr>\n",
       "      <th>2</th>\n",
       "      <td>Yes</td>\n",
       "      <td>Minat</td>\n",
       "      <td>167</td>\n",
       "    </tr>\n",
       "    <tr>\n",
       "      <th>3</th>\n",
       "      <td>Yes</td>\n",
       "      <td>Tidak Minat</td>\n",
       "      <td>171</td>\n",
       "    </tr>\n",
       "    <tr>\n",
       "      <th>4</th>\n",
       "      <td>Yes</td>\n",
       "      <td>Tidak Minat</td>\n",
       "      <td>170</td>\n",
       "    </tr>\n",
       "    <tr>\n",
       "      <th>5</th>\n",
       "      <td>No</td>\n",
       "      <td>Minat</td>\n",
       "      <td>184</td>\n",
       "    </tr>\n",
       "    <tr>\n",
       "      <th>6</th>\n",
       "      <td>No</td>\n",
       "      <td>Minat</td>\n",
       "      <td>1635</td>\n",
       "    </tr>\n",
       "    <tr>\n",
       "      <th>7</th>\n",
       "      <td>No</td>\n",
       "      <td>Tidak Minat</td>\n",
       "      <td>156</td>\n",
       "    </tr>\n",
       "    <tr>\n",
       "      <th>8</th>\n",
       "      <td>No</td>\n",
       "      <td>Tidak Minat</td>\n",
       "      <td>135</td>\n",
       "    </tr>\n",
       "  </tbody>\n",
       "</table>\n",
       "</div>"
      ],
      "text/plain": [
       "  Class        Musik  Berat Badan\n",
       "0   Yes        Minat          160\n",
       "1   Yes  Tidak Minat          165\n",
       "2   Yes        Minat          167\n",
       "3   Yes  Tidak Minat          171\n",
       "4   Yes  Tidak Minat          170\n",
       "5    No        Minat          184\n",
       "6    No        Minat         1635\n",
       "7    No  Tidak Minat          156\n",
       "8    No  Tidak Minat          135"
      ]
     },
     "execution_count": 10,
     "metadata": {},
     "output_type": "execute_result"
    }
   ],
   "source": [
    "df"
   ]
  },
  {
   "cell_type": "code",
   "execution_count": null,
   "metadata": {},
   "outputs": [],
   "source": []
  },
  {
   "cell_type": "code",
   "execution_count": 13,
   "metadata": {},
   "outputs": [
    {
     "data": {
      "text/html": [
       "\n",
       "<!DOCTYPE html>\n",
       "<html>\n",
       "    <head>\n",
       "        <meta charset=\"UTF-8\">\n",
       "        <title>PivotTable.js</title>\n",
       "\n",
       "        <!-- external libs from cdnjs -->\n",
       "        <link rel=\"stylesheet\" type=\"text/css\" href=\"https://cdnjs.cloudflare.com/ajax/libs/c3/0.4.11/c3.min.css\">\n",
       "        <script type=\"text/javascript\" src=\"https://cdnjs.cloudflare.com/ajax/libs/d3/3.5.5/d3.min.js\"></script>\n",
       "        <script type=\"text/javascript\" src=\"https://cdnjs.cloudflare.com/ajax/libs/c3/0.4.11/c3.min.js\"></script>\n",
       "        <script type=\"text/javascript\" src=\"https://cdnjs.cloudflare.com/ajax/libs/jquery/1.11.2/jquery.min.js\"></script>\n",
       "        <script type=\"text/javascript\" src=\"https://cdnjs.cloudflare.com/ajax/libs/jqueryui/1.11.4/jquery-ui.min.js\"></script>\n",
       "        <script type=\"text/javascript\" src=\"https://cdnjs.cloudflare.com/ajax/libs/jquery-csv/0.71/jquery.csv-0.71.min.js\"></script>\n",
       "\n",
       "\n",
       "        <link rel=\"stylesheet\" type=\"text/css\" href=\"https://cdnjs.cloudflare.com/ajax/libs/pivottable/2.19.0/pivot.min.css\">\n",
       "        <script type=\"text/javascript\" src=\"https://cdnjs.cloudflare.com/ajax/libs/pivottable/2.19.0/pivot.min.js\"></script>\n",
       "        <script type=\"text/javascript\" src=\"https://cdnjs.cloudflare.com/ajax/libs/pivottable/2.19.0/d3_renderers.min.js\"></script>\n",
       "        <script type=\"text/javascript\" src=\"https://cdnjs.cloudflare.com/ajax/libs/pivottable/2.19.0/c3_renderers.min.js\"></script>\n",
       "        <script type=\"text/javascript\" src=\"https://cdnjs.cloudflare.com/ajax/libs/pivottable/2.19.0/export_renderers.min.js\"></script>\n",
       "\n",
       "        <style>\n",
       "            body {font-family: Verdana;}\n",
       "            .node {\n",
       "              border: solid 1px white;\n",
       "              font: 10px sans-serif;\n",
       "              line-height: 12px;\n",
       "              overflow: hidden;\n",
       "              position: absolute;\n",
       "              text-indent: 2px;\n",
       "            }\n",
       "            .c3-line, .c3-focused {stroke-width: 3px !important;}\n",
       "            .c3-bar {stroke: white !important; stroke-width: 1;}\n",
       "            .c3 text { font-size: 12px; color: grey;}\n",
       "            .tick line {stroke: white;}\n",
       "            .c3-axis path {stroke: grey;}\n",
       "            .c3-circle { opacity: 1 !important; }\n",
       "            .c3-xgrid-focus {visibility: hidden !important;}\n",
       "        </style>\n",
       "    </head>\n",
       "    <body>\n",
       "        <script type=\"text/javascript\">\n",
       "            $(function(){\n",
       "                if(window.location != window.parent.location)\n",
       "                    $(\"<a>\", {target:\"_blank\", href:\"\"})\n",
       "                        .text(\"[pop out]\").prependTo($(\"body\"));\n",
       "\n",
       "                $(\"#output\").pivotUI(\n",
       "                    $.csv.toArrays($(\"#output\").text()),\n",
       "                    $.extend({\n",
       "                        renderers: $.extend(\n",
       "                            $.pivotUtilities.renderers,\n",
       "                            $.pivotUtilities.c3_renderers,\n",
       "                            $.pivotUtilities.d3_renderers,\n",
       "                            $.pivotUtilities.export_renderers\n",
       "                            ),\n",
       "                        hiddenAttributes: [\"\"]\n",
       "                    }, {})\n",
       "                ).show();\n",
       "             });\n",
       "        </script>\n",
       "        <div id=\"output\" style=\"display: none;\">,Class,Musik,Berat Badan\n",
       "\n",
       "0,Yes,Minat,160\n",
       "\n",
       "1,Yes,Tidak Minat,165\n",
       "\n",
       "2,Yes,Minat,167\n",
       "\n",
       "3,Yes,Tidak Minat,171\n",
       "\n",
       "4,Yes,Tidak Minat,170\n",
       "\n",
       "5,No,Minat,184\n",
       "\n",
       "6,No,Minat,1635\n",
       "\n",
       "7,No,Tidak Minat,156\n",
       "\n",
       "8,No,Tidak Minat,135\n",
       "\n",
       "</div>\n",
       "    </body>\n",
       "</html>\n"
      ],
      "text/plain": [
       "<IPython.core.display.HTML object>"
      ]
     },
     "execution_count": 13,
     "metadata": {},
     "output_type": "execute_result"
    }
   ],
   "source": [
    "pivot_ui(df,outfile_path='pivottablejs.html')\n",
    "HTML('pivottablejs.html')"
   ]
  },
  {
   "cell_type": "code",
   "execution_count": null,
   "metadata": {},
   "outputs": [],
   "source": []
  },
  {
   "cell_type": "code",
   "execution_count": null,
   "metadata": {},
   "outputs": [],
   "source": []
  },
  {
   "cell_type": "code",
   "execution_count": null,
   "metadata": {},
   "outputs": [],
   "source": []
  },
  {
   "cell_type": "code",
   "execution_count": null,
   "metadata": {},
   "outputs": [],
   "source": []
  },
  {
   "cell_type": "code",
   "execution_count": null,
   "metadata": {},
   "outputs": [],
   "source": []
  },
  {
   "cell_type": "code",
   "execution_count": null,
   "metadata": {},
   "outputs": [],
   "source": []
  },
  {
   "cell_type": "code",
   "execution_count": null,
   "metadata": {},
   "outputs": [],
   "source": []
  },
  {
   "cell_type": "code",
   "execution_count": null,
   "metadata": {},
   "outputs": [],
   "source": []
  },
  {
   "cell_type": "code",
   "execution_count": null,
   "metadata": {},
   "outputs": [],
   "source": []
  },
  {
   "cell_type": "code",
   "execution_count": null,
   "metadata": {},
   "outputs": [],
   "source": []
  },
  {
   "cell_type": "code",
   "execution_count": null,
   "metadata": {},
   "outputs": [],
   "source": []
  },
  {
   "cell_type": "code",
   "execution_count": null,
   "metadata": {},
   "outputs": [],
   "source": []
  },
  {
   "cell_type": "code",
   "execution_count": null,
   "metadata": {},
   "outputs": [],
   "source": []
  }
 ],
 "metadata": {
  "kernelspec": {
   "display_name": "Python 3",
   "language": "python",
   "name": "python3"
  },
  "language_info": {
   "codemirror_mode": {
    "name": "ipython",
    "version": 3
   },
   "file_extension": ".py",
   "mimetype": "text/x-python",
   "name": "python",
   "nbconvert_exporter": "python",
   "pygments_lexer": "ipython3",
   "version": "3.8.5"
  },
  "toc": {
   "base_numbering": 1,
   "nav_menu": {},
   "number_sections": true,
   "sideBar": true,
   "skip_h1_title": false,
   "title_cell": "Table of Contents",
   "title_sidebar": "Contents",
   "toc_cell": false,
   "toc_position": {},
   "toc_section_display": true,
   "toc_window_display": false
  }
 },
 "nbformat": 4,
 "nbformat_minor": 4
}
